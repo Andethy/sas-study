{
 "cells": [
  {
   "metadata": {
    "ExecuteTime": {
     "end_time": "2025-03-25T23:31:48.534872Z",
     "start_time": "2025-03-25T23:31:48.471483Z"
    }
   },
   "cell_type": "code",
   "source": [
    "import numpy as np\n",
    "import common.midi as md"
   ],
   "id": "7f30e8278750e2f2",
   "outputs": [],
   "execution_count": 2
  },
  {
   "metadata": {},
   "cell_type": "markdown",
   "source": [
    "Overall Equation:\n",
    "\n",
    "$$T(x, \\verb|chord|) = (\\alpha) \\cdot T_{\\text{global}}(x) + (1 - \\alpha) \\cdot T_{\\text{local}}(\\verb|chord|)$$\n",
    "\n",
    "There are two components to the equation:\n",
    "- Global tension: this is the base tension of the chord relative to the tonic.\n",
    "- Local tension: this the tension of the chord inherent to the structure of the chord."
   ],
   "id": "5b8ba8c5f1b589b2"
  },
  {
   "metadata": {},
   "cell_type": "markdown",
   "source": [
    "$$T_{\\text{global}}(x)=0.02375x^5 - 0.467803x^4 + 3.416098x^3 - 11.37083x^2 + 16.9965x - 8.598$$\n",
    "\n",
    "$$T_{\\text{local}}(\\verb|chord|) = \\sqrt{\\frac{1}{N}\\sum_{i \\in \\verb|chord|}^{N}{\\left(\\verb|tension|^{\\{ i \\}}\\right)^2}}$$\n"
   ],
   "id": "8769d05166be0557"
  },
  {
   "metadata": {
    "ExecuteTime": {
     "end_time": "2025-03-25T23:31:48.557606Z",
     "start_time": "2025-03-25T23:31:48.552118Z"
    }
   },
   "cell_type": "code",
   "source": [
    "def t_global(x, zero_indexed=False):\n",
    "    x += 1 if zero_indexed else 0\n",
    "    if not (1 <= x <= 7):\n",
    "        raise ValueError('Outside of bounds 1-7')\n",
    "    return round((0.02375 * x ** 5 - 0.467803 * x ** 4 + 3.416098 * x ** 3 - 11.37083 * x ** 2 + 16.9965 * x - 8.598), 3)\n",
    "\n",
    "t_global(5)"
   ],
   "id": "fd3719ae06e58d1b",
   "outputs": [
    {
     "data": {
      "text/plain": [
       "0.968"
      ]
     },
     "execution_count": 3,
     "metadata": {},
     "output_type": "execute_result"
    }
   ],
   "execution_count": 3
  },
  {
   "metadata": {
    "ExecuteTime": {
     "end_time": "2025-03-25T23:31:48.602558Z",
     "start_time": "2025-03-25T23:31:48.595111Z"
    }
   },
   "cell_type": "code",
   "source": [
    "intervals = {\n",
    "    0: 0.0,\n",
    "    1: 0.9,\n",
    "    2: 0.8,\n",
    "    3: 0.25,\n",
    "    4: 0.15,\n",
    "    5: 0.1,\n",
    "    6: 1.0,\n",
    "    7: 0.05,\n",
    "    8: 0.5,\n",
    "    9: 0.4,\n",
    "    10: 0.6,\n",
    "    11: 0.7\n",
    "}\n",
    "\n",
    "def t_local(chord):\n",
    "\n",
    "    chord = [note % 12 for note in chord]\n",
    "\n",
    "    tensions = []\n",
    "    for i in range(1, len(chord)):\n",
    "        interval1 = abs(chord[i] - chord[0]) # Total\n",
    "        interval2 = abs(chord[i] - chord[i - 1]) # In between\n",
    "        tensions.append(intervals[interval1])\n",
    "        # tensions.append(intervals[interval2])\n",
    "    # print(tensions)\n",
    "\n",
    "    if tensions:\n",
    "        rms = np.sqrt(np.mean(np.square(tensions))) / 0.8\n",
    "    else:\n",
    "        rms = 0.0\n",
    "\n",
    "    rms = min(rms, 1.0)\n",
    "    return round(float(rms), 3)\n",
    "\n",
    "t_local([0, 3, 6])"
   ],
   "id": "1cd361da87bd905c",
   "outputs": [
    {
     "data": {
      "text/plain": [
       "0.911"
      ]
     },
     "execution_count": 4,
     "metadata": {},
     "output_type": "execute_result"
    }
   ],
   "execution_count": 4
  },
  {
   "metadata": {
    "ExecuteTime": {
     "end_time": "2025-03-25T23:31:48.718357Z",
     "start_time": "2025-03-25T23:31:48.701584Z"
    }
   },
   "cell_type": "code",
   "source": [
    "def tension(root, chord, alpha=0.5):\n",
    "    return round(alpha * t_global(root) + (1 - alpha) * t_local(chord), 4)"
   ],
   "id": "98c6884655d820ad",
   "outputs": [],
   "execution_count": 5
  },
  {
   "metadata": {
    "ExecuteTime": {
     "end_time": "2025-03-25T23:31:48.752965Z",
     "start_time": "2025-03-25T23:31:48.750427Z"
    }
   },
   "cell_type": "code",
   "source": "tension(5, [0, 4, 7, 10], 0.6)",
   "id": "75a212bfd48615e9",
   "outputs": [
    {
     "data": {
      "text/plain": [
       "0.76"
      ]
     },
     "execution_count": 6,
     "metadata": {},
     "output_type": "execute_result"
    }
   ],
   "execution_count": 6
  },
  {
   "metadata": {
    "ExecuteTime": {
     "end_time": "2025-03-25T23:33:19.265341Z",
     "start_time": "2025-03-25T23:33:19.259902Z"
    }
   },
   "cell_type": "code",
   "source": [
    "CHORDS = set()\n",
    "\n",
    "maj = set(md.SCALES['major'])\n",
    "for degree in md.SCALES['major']:\n",
    "    note = md.int_to_note(degree)[:1]\n",
    "    for harmony, values in md.HARMONIES_SHORT.items():\n",
    "        curr = [degree + value for value in values]\n",
    "        for val in curr:\n",
    "            if val % 12 not in maj:\n",
    "                curr = None\n",
    "                break\n",
    "        if curr:\n",
    "            CHORDS.add(f'{note}_{harmony}')\n",
    "\n",
    "CHORDS\n"
   ],
   "id": "437c0f6c03438a97",
   "outputs": [
    {
     "data": {
      "text/plain": [
       "{'A_dom7aug5',\n",
       " 'A_dom7sus4',\n",
       " 'A_m',\n",
       " 'A_m7',\n",
       " 'A_m9',\n",
       " 'A_sus2',\n",
       " 'A_sus4',\n",
       " 'B_dim',\n",
       " 'B_dom7aug5',\n",
       " 'B_m7b5',\n",
       " 'C_M',\n",
       " 'C_M6',\n",
       " 'C_M7',\n",
       " 'C_M9',\n",
       " 'C_sus2',\n",
       " 'C_sus4',\n",
       " 'D_dom7sus4',\n",
       " 'D_m',\n",
       " 'D_m7',\n",
       " 'D_m9',\n",
       " 'D_sus2',\n",
       " 'D_sus4',\n",
       " 'E_dom7aug5',\n",
       " 'E_dom7sus4',\n",
       " 'E_m',\n",
       " 'E_m7',\n",
       " 'E_sus4',\n",
       " 'F_M',\n",
       " 'F_M6',\n",
       " 'F_M7',\n",
       " 'F_M9',\n",
       " 'F_sus2',\n",
       " 'G_M',\n",
       " 'G_M6',\n",
       " 'G_dom7',\n",
       " 'G_dom7sus4',\n",
       " 'G_sus2',\n",
       " 'G_sus4'}"
      ]
     },
     "execution_count": 8,
     "metadata": {},
     "output_type": "execute_result"
    }
   ],
   "execution_count": 8
  },
  {
   "metadata": {
    "ExecuteTime": {
     "end_time": "2025-03-26T02:55:20.273645Z",
     "start_time": "2025-03-26T02:55:20.263355Z"
    }
   },
   "cell_type": "code",
   "source": [
    "res = {}\n",
    "\n",
    "for chord in CHORDS:\n",
    "    root, harmony = chord.split('_')\n",
    "\n",
    "    rt = md.get_key_ints('C', 'major').index(md.note_to_int(root + '0')) + 1\n",
    "    ch = md.HARMONIES_SHORT[harmony]\n",
    "    res[chord] = tension(rt, ch, 0.7)\n",
    "\n",
    "res"
   ],
   "id": "4569e269ac48c9c8",
   "outputs": [
    {
     "data": {
      "text/plain": [
       "{'G_dom7': 0.812,\n",
       " 'E_dom7aug5': 0.288,\n",
       " 'C_M7': 0.1554,\n",
       " 'E_m7': 0.2586,\n",
       " 'C_M': 0.0342,\n",
       " 'E_sus4': 0.1419,\n",
       " 'A_m7': 0.3622,\n",
       " 'D_dom7sus4': 0.4932,\n",
       " 'D_m7': 0.5022,\n",
       " 'G_M6': 0.7583,\n",
       " 'B_m7b5': 0.8883,\n",
       " 'G_M': 0.7118,\n",
       " 'B_dim': 0.8532,\n",
       " 'C_sus2': 0.1734,\n",
       " 'F_M9': 0.6545,\n",
       " 'G_dom7sus4': 0.8096,\n",
       " 'A_m9': 0.4147,\n",
       " 'F_sus2': 0.6263,\n",
       " 'A_sus2': 0.3946,\n",
       " 'A_dom7aug5': 0.3916,\n",
       " 'D_sus4': 0.3855,\n",
       " 'F_M7': 0.6083,\n",
       " 'G_sus4': 0.7019,\n",
       " 'D_m': 0.4164,\n",
       " 'E_dom7sus4': 0.2496,\n",
       " 'A_dom7sus4': 0.3532,\n",
       " 'C_sus4': 0.0243,\n",
       " 'C_M6': 0.0807,\n",
       " 'G_sus2': 0.851,\n",
       " 'A_sus4': 0.2455,\n",
       " 'C_M9': 0.2016,\n",
       " 'B_dom7aug5': 0.8004,\n",
       " 'F_M6': 0.5336,\n",
       " 'E_m': 0.1728,\n",
       " 'F_M': 0.4871,\n",
       " 'D_sus2': 0.5346,\n",
       " 'D_m9': 0.5547,\n",
       " 'A_m': 0.2764}"
      ]
     },
     "execution_count": 10,
     "metadata": {},
     "output_type": "execute_result"
    }
   ],
   "execution_count": 10
  },
  {
   "metadata": {},
   "cell_type": "code",
   "outputs": [],
   "execution_count": null,
   "source": "",
   "id": "f80f444dc6861f2e"
  }
 ],
 "metadata": {
  "kernelspec": {
   "display_name": "Python 3",
   "language": "python",
   "name": "python3"
  },
  "language_info": {
   "codemirror_mode": {
    "name": "ipython",
    "version": 2
   },
   "file_extension": ".py",
   "mimetype": "text/x-python",
   "name": "python",
   "nbconvert_exporter": "python",
   "pygments_lexer": "ipython2",
   "version": "2.7.6"
  }
 },
 "nbformat": 4,
 "nbformat_minor": 5
}
