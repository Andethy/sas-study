{
 "cells": [
  {
   "metadata": {
    "ExecuteTime": {
     "end_time": "2025-03-12T06:26:38.794989Z",
     "start_time": "2025-03-12T06:26:38.791619Z"
    }
   },
   "cell_type": "code",
   "source": "import numpy as np",
   "id": "7f30e8278750e2f2",
   "outputs": [],
   "execution_count": 91
  },
  {
   "metadata": {},
   "cell_type": "markdown",
   "source": [
    "Overall Equation:\n",
    "\n",
    "$$T(x, \\verb|chord|) = (\\alpha) \\cdot T_{\\text{global}}(x) + (1 - \\alpha) \\cdot T_{\\text{local}}(\\verb|chord|)$$\n",
    "\n",
    "There are two components to the equation:\n",
    "- Global tension: this is the base tension of the chord relative to the tonic.\n",
    "- Local tension: this the tension of the chord inherent to the structure of the chord."
   ],
   "id": "5b8ba8c5f1b589b2"
  },
  {
   "metadata": {},
   "cell_type": "markdown",
   "source": [
    "$$T_{\\text{global}}(x)=0.02375x^5 - 0.467803x^4 + 3.416098x^3 - 11.37083x^2 + 16.9965x - 8.598$$\n",
    "\n",
    "$$T_{\\text{local}}(\\verb|chord|) = \\sqrt{\\frac{1}{N}\\sum_{i \\in \\verb|chord|}^{N}{\\left(\\verb|tension|^{\\{ i \\}}\\right)^2}}$$\n"
   ],
   "id": "8769d05166be0557"
  },
  {
   "metadata": {
    "ExecuteTime": {
     "end_time": "2025-03-12T06:26:38.811431Z",
     "start_time": "2025-03-12T06:26:38.807104Z"
    }
   },
   "cell_type": "code",
   "source": [
    "def t_global(x, zero_indexed=False):\n",
    "    x += 1 if zero_indexed else 0\n",
    "    if not (1 <= x <= 7):\n",
    "        raise ValueError('Outside of bounds 1-7')\n",
    "    return round((0.02375 * x ** 5 - 0.467803 * x ** 4 + 3.416098 * x ** 3 - 11.37083 * x ** 2 + 16.9965 * x - 8.598), 3)\n",
    "\n",
    "t_global(5)"
   ],
   "id": "fd3719ae06e58d1b",
   "outputs": [
    {
     "data": {
      "text/plain": [
       "0.968"
      ]
     },
     "execution_count": 92,
     "metadata": {},
     "output_type": "execute_result"
    }
   ],
   "execution_count": 92
  },
  {
   "metadata": {
    "ExecuteTime": {
     "end_time": "2025-03-12T06:26:38.831922Z",
     "start_time": "2025-03-12T06:26:38.826241Z"
    }
   },
   "cell_type": "code",
   "source": [
    "intervals = {\n",
    "    0: 0.0,\n",
    "    1: 0.9,\n",
    "    2: 0.8,\n",
    "    3: 0.25,\n",
    "    4: 0.15,\n",
    "    5: 0.1,\n",
    "    6: 1.0,\n",
    "    7: 0.05,\n",
    "    8: 0.5,\n",
    "    9: 0.4,\n",
    "    10: 0.6,\n",
    "    11: 0.7\n",
    "}\n",
    "\n",
    "def t_local(chord):\n",
    "\n",
    "    chord = [note % 12 for note in chord]\n",
    "\n",
    "    tensions = []\n",
    "    for i in range(1, len(chord)):\n",
    "        interval1 = abs(chord[i] - chord[0]) # Total\n",
    "        interval2 = abs(chord[i] - chord[i - 1]) # In between\n",
    "        tensions.append(intervals[interval1])\n",
    "        # tensions.append(intervals[interval2])\n",
    "    # print(tensions)\n",
    "\n",
    "    if tensions:\n",
    "        rms = np.sqrt(np.mean(np.square(tensions))) / 0.8\n",
    "    else:\n",
    "        rms = 0.0\n",
    "\n",
    "    rms = min(rms, 1.0)\n",
    "    return round(float(rms), 3)\n",
    "\n",
    "t_local([0, 3, 6])"
   ],
   "id": "1cd361da87bd905c",
   "outputs": [
    {
     "data": {
      "text/plain": [
       "0.911"
      ]
     },
     "execution_count": 93,
     "metadata": {},
     "output_type": "execute_result"
    }
   ],
   "execution_count": 93
  },
  {
   "metadata": {
    "ExecuteTime": {
     "end_time": "2025-03-12T06:26:38.920701Z",
     "start_time": "2025-03-12T06:26:38.918598Z"
    }
   },
   "cell_type": "code",
   "source": [
    "def tension(root, chord, alpha=0.5):\n",
    "    return round(alpha * t_global(root) + (1 - alpha) * t_local(chord), 3)"
   ],
   "id": "98c6884655d820ad",
   "outputs": [],
   "execution_count": 94
  },
  {
   "metadata": {
    "ExecuteTime": {
     "end_time": "2025-03-12T06:28:05.579599Z",
     "start_time": "2025-03-12T06:28:05.576651Z"
    }
   },
   "cell_type": "code",
   "source": "tension(5, [0, 4, 7, 10], 0.6)",
   "id": "75a212bfd48615e9",
   "outputs": [
    {
     "data": {
      "text/plain": [
       "0.76"
      ]
     },
     "execution_count": 107,
     "metadata": {},
     "output_type": "execute_result"
    }
   ],
   "execution_count": 107
  },
  {
   "metadata": {},
   "cell_type": "code",
   "outputs": [],
   "execution_count": null,
   "source": "",
   "id": "4569e269ac48c9c8"
  }
 ],
 "metadata": {
  "kernelspec": {
   "display_name": "Python 3",
   "language": "python",
   "name": "python3"
  },
  "language_info": {
   "codemirror_mode": {
    "name": "ipython",
    "version": 2
   },
   "file_extension": ".py",
   "mimetype": "text/x-python",
   "name": "python",
   "nbconvert_exporter": "python",
   "pygments_lexer": "ipython2",
   "version": "2.7.6"
  }
 },
 "nbformat": 4,
 "nbformat_minor": 5
}
