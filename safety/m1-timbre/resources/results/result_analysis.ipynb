{
 "cells": [
  {
   "cell_type": "code",
   "execution_count": 74,
   "metadata": {},
   "outputs": [],
   "source": [
    "import json\n",
    "import numpy as np\n",
    "import pandas as pd"
   ]
  },
  {
   "cell_type": "code",
   "execution_count": 75,
   "metadata": {},
   "outputs": [],
   "source": [
    "raw_data = pd.read_csv('SAStimbreTags.csv', index_col=None, header=0)\n",
    "\n",
    "with open('file_mapping.json', 'r') as file:\n",
    "    file_mapping = json.load(file)"
   ]
  },
  {
   "cell_type": "code",
   "execution_count": 76,
   "metadata": {},
   "outputs": [],
   "source": [
    "clean_data = {}\n",
    "num_songs = 128\n",
    "for i in range(num_songs):\n",
    "    song_id = i + 3\n",
    "    clean_data[song_id] = {'Safety': list(raw_data.iloc[:, 2 * i + 1]),\n",
    "                           'Urgency': list(raw_data.iloc[:, 2 * i + 2]),\n",
    "                           'Name' : file_mapping[i+2][1].split(\"/\")[1].rstrip(\".wav\")}\n",
    "\n",
    "json_object = json.dumps(clean_data, indent=4)\n",
    " \n",
    "\n",
    "with open(\"TimbreResults.json\", \"w\") as outfile:\n",
    "    outfile.write(json_object)"
   ]
  },
  {
   "cell_type": "code",
   "execution_count": 77,
   "metadata": {},
   "outputs": [],
   "source": [
    "id_to_filepath = {}\n",
    "for file_pair in file_mapping:\n",
    "    id = file_pair[0].split(\"/\")[-1]\n",
    "    id_to_filepath[id] = file_pair[1]"
   ]
  },
  {
   "cell_type": "code",
   "execution_count": 79,
   "metadata": {},
   "outputs": [],
   "source": [
    "with open('TimbreResults.json', 'r') as file:\n",
    "    timbre_results = json.load(file)\n",
    "\n",
    "filepath = []\n",
    "avg_safety = []\n",
    "avg_urgency = []\n",
    "for key in timbre_results.keys():\n",
    "    if key + \".wav\" in id_to_filepath.keys():\n",
    "        safety_result = timbre_results[key][\"Safety\"]\n",
    "        urgency_result = timbre_results[key][\"Urgency\"]\n",
    "        if safety_result and urgency_result:\n",
    "            filepath.append(id_to_filepath[key+\".wav\"])\n",
    "            avg_safety.append(np.mean(safety_result).item())\n",
    "            avg_urgency.append(np.mean(urgency_result).item())\n",
    "\n",
    "df = pd.DataFrame({\"filepath\": filepath,\n",
    "              \"average safety\": avg_safety,\n",
    "              \"average urgency\": avg_urgency})\n",
    "\n",
    "df.to_csv(\"average_ratings.csv\")"
   ]
  }
 ],
 "metadata": {
  "kernelspec": {
   "display_name": "timbre_interp",
   "language": "python",
   "name": "python3"
  },
  "language_info": {
   "codemirror_mode": {
    "name": "ipython",
    "version": 3
   },
   "file_extension": ".py",
   "mimetype": "text/x-python",
   "name": "python",
   "nbconvert_exporter": "python",
   "pygments_lexer": "ipython3",
   "version": "3.11.10"
  }
 },
 "nbformat": 4,
 "nbformat_minor": 2
}
